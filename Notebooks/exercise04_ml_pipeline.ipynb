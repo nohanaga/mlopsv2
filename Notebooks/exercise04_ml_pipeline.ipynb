{
  "cells": [
    {
      "cell_type": "markdown",
      "source": [
        "# Exercise04 : トレーニングパイプラインの作成\n",
        "\n",
        "AML 機械学習パイプラインを利用することで、以下のような目的で ML ワークフローを作成することができます。\n",
        "\n",
        "- MLOps 統合のための再トレーニングパイプラインを構築することができます。\n",
        "- [Exercise03 : Web サービスとして公開する](./exercise03_publish_model.ipynb) において、リアルタイムスコアリングの代わりにバッチスコアリングのパイプラインを構築することができます。\n",
        "\n",
        "> Note : CI/CD ツールと連携したリファレンスアーキテクチャについては、[こちら](https://docs.microsoft.com/azure/architecture/reference-architectures/ai/mlops-python)をご参照ください。\n",
        "\n",
        "ML パイプラインは、以下の方法で呼び出すことができます。\n",
        "\n",
        "- タイムベースのスケジュール呼び出し\n",
        "- 公開されたエンドポイント（REST）によるオンデマンドな呼び出し\n",
        "- ファイル変更などの複合イベントによるトリガーベースの呼び出し（Azure Event Grid や Azure Logic Apps などによる）\n",
        "\n",
        "この演習では、トップレベル（パイプラインの）出力にモデルメトリクスを返す、シンプルなトレーニングパイプラインを作成します。\n"
      ],
      "metadata": {}
    },
    {
      "cell_type": "markdown",
      "source": [
        "## 1. コンピュート クラスターの作成\n",
        "\n",
        "パイプラインを実行するための新しい AML コンピュート クラスターを作成します。<br>\n",
        "すでに作成済みの場合は、以前のクラスターを使いまわします。\n",
        "\n",
        "パイプラインが起動されると、このコンピュート クラスターも起動されます。パイプラインが終了すると、このコンピュート クラスターも自動的にゼロにスケールダウンされます。"
      ],
      "metadata": {}
    },
    {
      "cell_type": "code",
      "source": [
        "\"\"\"\n",
        "!az ml compute create --name demo-cpucluster1 \\\n",
        "  --type amlcompute \\\n",
        "  --min-instances 0 \\\n",
        "  --max-instances 1 \\\n",
        "  --size Standard_D2_v2 \\\n",
        "  --idle-time-before-scale-down 1800\n",
        "\"\"\""
      ],
      "outputs": [],
      "execution_count": null,
      "metadata": {}
    },
    {
      "cell_type": "markdown",
      "source": [
        "## 2. トレーニングスクリプトをファイルとして保存する (train.py)\r\n",
        "\r\n",
        "Exercise02 で作成したトレーニングスクリプト `/scripts/train.py` を再利用します。"
      ],
      "metadata": {
        "nteract": {
          "transient": {
            "deleting": false
          }
        }
      }
    },
    {
      "cell_type": "markdown",
      "source": [
        "## 3. モデル登録スクリプトをファイルとして保存する (register.py)"
      ],
      "metadata": {}
    },
    {
      "cell_type": "markdown",
      "source": [
        "この例では、モデルの学習、モデル登録のためのパイプラインを作成します。\n",
        "このパイプラインでは、以下の手順が実行されます。\n",
        "\n",
        "1. モデルの学習が行われる。\n",
        "2. モデルを登録する。モデルメトリクスをパイプラインの出力として設定する。\n",
        "\n",
        "そして、各ソースコードは以下のように保存されます。\n",
        "\n",
        "- training script ```./scripts/train.py```\n",
        "- register script ```./scripts/register.py```\n",
        "\n",
        "モデル名（モデルディレクトリのサブフォルダ名）は、モデル情報ファイル（JSONテキスト）に保存され、次のステップに渡されます。"
      ],
      "metadata": {}
    },
    {
      "cell_type": "code",
      "source": [
        "%%writefile scripts/register.py\n",
        "\n",
        "import argparse\n",
        "import json\n",
        "import mlflow\n",
        "from mlflow.pyfunc import load_model\n",
        "from mlflow.tracking import MlflowClient\n",
        "\n",
        "def parse_args():\n",
        "\n",
        "    parser = argparse.ArgumentParser()\n",
        "    parser.add_argument('--model_name', type=str, help='Name under which model will be registered')\n",
        "    parser.add_argument('--model_path', type=str, help='Model directory')\n",
        "    parser.add_argument('--deploy_flag', type=str, help='A deploy flag whether to deploy or no')\n",
        "\n",
        "    args, _ = parser.parse_known_args()\n",
        "    print(f'Arguments: {args}')\n",
        "\n",
        "    return args\n",
        "\n",
        "\n",
        "def main():\n",
        "\n",
        "    args = parse_args()\n",
        "\n",
        "    model_name = args.model_name\n",
        "    model_path = args.model_path\n",
        "    deploy_flag = int(args.deploy_flag)\n",
        "\n",
        "    mlflow.set_tag(\"model_name\", model_name)\n",
        "    mlflow.set_tag(\"model_path\", model_path)\n",
        "    mlflow.set_tag(\"deploy_flag\", int(deploy_flag))\n",
        "\n",
        "    # For information transfer between pipelines\n",
        "    json_open = open(model_path + \"/metric.json\", 'r')\n",
        "    json_load = json.load(json_open)\n",
        "    rmse = json_load[\"RMSE\"]\n",
        "    r2 = json_load[\"R2\"]\n",
        "    print(\"rmse: \" + str(rmse))\n",
        "    print(\"r2: \" + str(r2))\n",
        "\n",
        "    mlflow.set_tag(\"RMSE\", rmse)\n",
        "    mlflow.set_tag(\"R2\", r2)\n",
        "\n",
        "    if deploy_flag==1:\n",
        "        # Load model from model_path\n",
        "        model = load_model(model_path + \"/models\") \n",
        "        # Log the sklearn model and register as version 1\n",
        "        modelreg = mlflow.sklearn.log_model(\n",
        "            sk_model=model,\n",
        "            artifact_path=\"models\",\n",
        "            registered_model_name=model_name\n",
        "        )\n",
        "        print(modelreg)\n",
        "\n",
        "        #Since log_model cannot register tags in models, use set_model_version_tag instead.\n",
        "        client = MlflowClient() \n",
        "        model_info = client.get_registered_model(model_name)\n",
        "        model_version = model_info.latest_versions[0].version\n",
        "        dict_metrics =  {\"RMSE\": rmse, \"R2\": r2}\n",
        "        client.set_model_version_tag(model_name, str(model_version), \"metrics\", json.dumps(dict_metrics))\n",
        "        print(\"Model registered!\")\n",
        "    else:\n",
        "        print(\"Model will not be registered!\")\n",
        "\n",
        "if __name__ == \"__main__\":\n",
        "    main()\n",
        "\n",
        "\n"
      ],
      "outputs": [],
      "execution_count": null,
      "metadata": {}
    },
    {
      "cell_type": "markdown",
      "source": [
        "## 4. MLパイプラインの構築と実行\n",
        "\n",
        "yaml でパイプラインを構成し、生成されたパイプラインに対してジョブを投入してみましょう。\n",
        "\n",
        "> 注意 : この例では、 ``diabetes_data_oh4ml_350records`` という名前の登録済みデータ アセットをコンピュートターゲットにマウントして使用します。データ アセット準備のため、\"[Exercise00-2 : Prepare Data](./exercise00_1_prepare_data.ipynb)\" を実行します。"
      ],
      "metadata": {}
    },
    {
      "cell_type": "code",
      "source": [
        "%%writefile 04_training_pipeline_job.yml\r\n",
        "$schema: https://azuremlschemas.azureedge.net/latest/pipelineJob.schema.json\r\n",
        "type: pipeline\r\n",
        "experiment_name: 04_pipeline_oh4ml_2step\r\n",
        "description: 2-Step Pipeline Example (Train, Register)\r\n",
        "\r\n",
        "# <inputs_and_outputs>\r\n",
        "inputs:\r\n",
        "  input: \r\n",
        "    type: uri_file\r\n",
        "    #path: azureml:diabetes_data_oh4ml@latest\r\n",
        "    path: azureml:diabetes_data_oh4ml_350records@latest\r\n",
        "  model_name: diabetes_model_oh4ml\r\n",
        "outputs: \r\n",
        "  outputs:\r\n",
        "\r\n",
        "settings:\r\n",
        "  default_datastore: azureml:workspaceblobstore\r\n",
        "  default_compute: azureml:demo-cpucluster1\r\n",
        "  continue_on_step_failure: false\r\n",
        "\r\n",
        "jobs:\r\n",
        "  train_model:\r\n",
        "    name: train_model\r\n",
        "    display_name: train-model\r\n",
        "    code: ./scripts\r\n",
        "    command: >-\r\n",
        "      python train.py \r\n",
        "      --input_data ${{inputs.diabetes_data}} \r\n",
        "      --output_dir ${{outputs.model_output}}\r\n",
        "    environment: azureml:diabetes-env@latest\r\n",
        "    inputs:\r\n",
        "      diabetes_data: ${{parent.inputs.input}}\r\n",
        "    outputs:\r\n",
        "      model_output: ${{parent.outputs.outputs}}\r\n",
        "\r\n",
        "  register_model:\r\n",
        "    name: register_model\r\n",
        "    display_name: register-model\r\n",
        "    code: ./scripts\r\n",
        "    command: >-\r\n",
        "      python register.py \r\n",
        "      --model_name ${{inputs.model_name}} \r\n",
        "      --model_path ${{inputs.model_path}} \r\n",
        "      --deploy_flag ${{inputs.deploy_flag}}\r\n",
        "    environment: azureml:diabetes-env@latest\r\n",
        "    inputs:\r\n",
        "      model_name: ${{parent.inputs.model_name}}\r\n",
        "      model_path: ${{parent.jobs.train_model.outputs.model_output}}\r\n",
        "      deploy_flag: 1"
      ],
      "outputs": [],
      "execution_count": null,
      "metadata": {
        "jupyter": {
          "source_hidden": false,
          "outputs_hidden": false
        },
        "nteract": {
          "transient": {
            "deleting": false
          }
        }
      }
    },
    {
      "cell_type": "markdown",
      "source": [
        "このパイプラインを実行するためのジョブを投入します。"
      ],
      "metadata": {}
    },
    {
      "cell_type": "code",
      "source": [
        "!az ml job create --file 04_training_pipeline_job.yml"
      ],
      "outputs": [],
      "execution_count": null,
      "metadata": {}
    },
    {
      "cell_type": "markdown",
      "source": [
        "AML studio UI にアクセスし、パイプラインの結果をジョブで確認します。(下記参照)\n",
        "\n",
        "![Pipeline results](../images/005.png)\n",
        "\n",
        "パイプラインの出力でモデルメトリクスを抽出することができます。<br>\n",
        "このトレーニングパイプラインがパスされた場合、MLOps 統合の次のステージを呼び出すことができます。"
      ],
      "metadata": {}
    },
    {
      "cell_type": "markdown",
      "source": [
        "## 5.  コンピュート クラスターの削除\n",
        "\n",
        "AML コンピュート クラスターは非アクティブになると自動的にノードが終了するので、コスト節約のために削除する必要はありません。しかし、もしクリーンアップしたい場合は、以下のように実行してください。"
      ],
      "metadata": {}
    },
    {
      "cell_type": "code",
      "source": [
        "\"\"\"\n",
        "!az ml compute delete --name demo-cpucluster1 \\\n",
        "  --yes\n",
        "\"\"\""
      ],
      "outputs": [],
      "execution_count": null,
      "metadata": {}
    }
  ],
  "metadata": {
    "kernelspec": {
      "name": "python38-azureml",
      "language": "python",
      "display_name": "Python 3.8 - AzureML"
    },
    "language_info": {
      "name": "python",
      "version": "3.8.5",
      "mimetype": "text/x-python",
      "codemirror_mode": {
        "name": "ipython",
        "version": 3
      },
      "pygments_lexer": "ipython3",
      "nbconvert_exporter": "python",
      "file_extension": ".py"
    },
    "kernel_info": {
      "name": "python38-azureml"
    },
    "nteract": {
      "version": "nteract-front-end@1.0.0"
    }
  },
  "nbformat": 4,
  "nbformat_minor": 0
}