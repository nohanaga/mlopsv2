{
  "cells": [
    {
      "cell_type": "markdown",
      "source": [
        "# Exercise05 : 機械学習パイプラインのトリガー\n",
        "\n",
        "ML パイプラインは、以下の方法で呼び出すことができます。\n",
        "\n",
        "- タイムベースのスケジュール呼び出し\n",
        "- 公開されたエンドポイント（REST）によるオンデマンドな呼び出し\n",
        "- ファイル変更などの複合イベントによるトリガーベースの呼び出し（Azure Event Grid や Azure Logic Apps などによる）\n",
        "\n",
        "この演習では、[Exercise04](./exercise04_ml_pipeline.ipynb) で作成したトレーニングパイプラインを複数の方法でトリガーします。\n",
        "\n",
        "\n"
      ],
      "metadata": {
        "nteract": {
          "transient": {
            "deleting": false
          }
        }
      }
    },
    {
      "cell_type": "markdown",
      "source": [
        "## 繰り返しのパターンを使用した時間ベースのスケジュールを作成する\n",
        "パイプライン ジョブを定期的に実行するには、スケジュールを作成する必要があります。 ジョブとトリガーを関連付けるには、`Schedule` を使用します。 トリガーには、cron 式で実行間隔を指定する `cron`、またはジョブを実行する頻度を指定する `recurrence` を使用することができます。 パイプライン ジョブ yaml は、ローカルまたはワークスペース内の既存のパイプライン ジョブでスケジュールできます。\n",
        "\n",
        "\n",
        "(必須)`frequency` は、スケジュールの起動間隔を表す時間の単位を指定します。 これには、`minute`、`hour`、`day`、`week`、`month` を指定できます。<br>\n",
        "(必須)`interval` は、頻度に基づいてスケジュールの起動間隔を指定します。頻度は、スケジュールが再び起動するまで待機する時間の単位数です。\n",
        "\n",
        "スケジュールの開始時間や起動時間を設定することもできます。より詳細なオプションは[こちら](https://learn.microsoft.com/azure/machine-learning/how-to-schedule-pipeline-job?tabs=cliv2#create-a-schedule)を参照してください。"
      ],
      "metadata": {
        "nteract": {
          "transient": {
            "deleting": false
          }
        }
      }
    },
    {
      "cell_type": "code",
      "source": [
        "%%writefile 05_schedule_pipeline_job.yml\n",
        "$schema: https://azuremlschemas.azureedge.net/latest/schedule.schema.json\n",
        "name: simple_recurrence_job_schedule\n",
        "display_name: Simple recurrence job schedule\n",
        "description: a simple hourly recurrence job schedule test\n",
        "\n",
        "trigger:\n",
        "  type: recurrence\n",
        "  frequency: minute #can be minute, hour, day, week, month\n",
        "  interval: 5 #every minutes\n",
        "\n",
        "create_job: ./04_training_pipeline_job.yml"
      ],
      "outputs": [],
      "execution_count": null,
      "metadata": {}
    },
    {
      "cell_type": "markdown",
      "source": [
        "## スケジュールを作成する\r\n",
        "スケジュール yaml を作成したら、次のコマンドを使用して CLI からスケジュールを作成できます。"
      ],
      "metadata": {
        "nteract": {
          "transient": {
            "deleting": false
          }
        }
      }
    },
    {
      "cell_type": "code",
      "source": [
        "!az ml schedule create --file 05_schedule_pipeline_job.yml --no-wait"
      ],
      "outputs": [],
      "execution_count": null,
      "metadata": {
        "jupyter": {
          "outputs_hidden": false,
          "source_hidden": false
        },
        "nteract": {
          "transient": {
            "deleting": false
          }
        }
      }
    },
    {
      "cell_type": "markdown",
      "source": [
        "## スケジュールの詳細を確認する\r\n",
        "登録済みのスケジュールの詳細情報を確認できます。AML スタジオ上のジョブ画面のすべてのスケジュールタブからも確認できます。"
      ],
      "metadata": {
        "nteract": {
          "transient": {
            "deleting": false
          }
        }
      }
    },
    {
      "cell_type": "code",
      "source": [
        "!az ml schedule show -n simple_recurrence_job_schedule"
      ],
      "outputs": [],
      "execution_count": null,
      "metadata": {
        "jupyter": {
          "source_hidden": false,
          "outputs_hidden": false
        },
        "nteract": {
          "transient": {
            "deleting": false
          }
        }
      }
    },
    {
      "cell_type": "markdown",
      "source": [
        "## スケジュール一覧の取得"
      ],
      "metadata": {
        "nteract": {
          "transient": {
            "deleting": false
          }
        }
      }
    },
    {
      "cell_type": "code",
      "source": [
        "!az ml schedule list"
      ],
      "outputs": [],
      "execution_count": null,
      "metadata": {
        "jupyter": {
          "outputs_hidden": false,
          "source_hidden": false
        },
        "nteract": {
          "transient": {
            "deleting": false
          }
        }
      }
    },
    {
      "cell_type": "markdown",
      "source": [
        "## スケジュールを無効にする"
      ],
      "metadata": {
        "nteract": {
          "transient": {
            "deleting": false
          }
        }
      }
    },
    {
      "cell_type": "code",
      "source": [
        "!az ml schedule disable -n simple_recurrence_job_schedule --no-wait"
      ],
      "outputs": [],
      "execution_count": null,
      "metadata": {
        "jupyter": {
          "outputs_hidden": false,
          "source_hidden": false
        },
        "nteract": {
          "transient": {
            "deleting": false
          }
        }
      }
    },
    {
      "cell_type": "markdown",
      "source": [
        "## スケジュールの削除"
      ],
      "metadata": {
        "nteract": {
          "transient": {
            "deleting": false
          }
        }
      }
    },
    {
      "cell_type": "code",
      "source": [
        "!az ml schedule delete -n simple_recurrence_job_schedule"
      ],
      "outputs": [],
      "execution_count": null,
      "metadata": {
        "jupyter": {
          "source_hidden": false,
          "outputs_hidden": false
        },
        "nteract": {
          "transient": {
            "deleting": false
          }
        }
      }
    }
  ],
  "metadata": {
    "kernel_info": {
      "name": "python38-azureml"
    },
    "kernelspec": {
      "name": "python38-azureml",
      "language": "python",
      "display_name": "Python 3.8 - AzureML"
    },
    "language_info": {
      "name": "python",
      "version": "3.8.5",
      "mimetype": "text/x-python",
      "codemirror_mode": {
        "name": "ipython",
        "version": 3
      },
      "pygments_lexer": "ipython3",
      "nbconvert_exporter": "python",
      "file_extension": ".py"
    },
    "nteract": {
      "version": "nteract-front-end@1.0.0"
    }
  },
  "nbformat": 4,
  "nbformat_minor": 0
}